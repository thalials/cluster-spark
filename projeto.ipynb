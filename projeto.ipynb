﻿{
  "metadata": {
    "name": "tarefa1",
    "kernelspec": {
      "language": "scala",
      "name": "spark2-scala"
    },
    "language_info": {
      "codemirror_mode": "text/x-scala",
      "file_extension": ".scala",
      "mimetype": "text/x-scala",
      "name": "scala",
      "pygments_lexer": "scala"
    }
  },
  "nbformat": 4,
  "nbformat_minor": 2,
  "cells": [
    {
      "cell_type": "code",
      "execution_count": 0,
      "metadata": {
        "autoscroll": "auto"
      },
      "outputs": [],
      "source": "%pyspark\r\nrdd \u003d sc.textFile(\u0027s3://megadados-alunos/dados/all_reviews_clean_tsv/\u0027)\r\n"
    },
    {
      "cell_type": "code",
      "execution_count": 1,
      "metadata": {
        "autoscroll": "auto"
      },
      "outputs": [],
      "source": "%pyspark\nrdd_reviews \u003d rdd \\\n            .map(lambda x: x.split(\u0027\\t\u0027)) \\\n            .map(lambda x: (x[2], 1)) \\\n            .reduceByKey(lambda x, y: x + y) \\\n            .cache()\n            \n"
    },
    {
      "cell_type": "code",
      "execution_count": 2,
      "metadata": {
        "autoscroll": "auto"
      },
      "outputs": [],
      "source": "%pyspark\nprint(\"Número de reviews é igual a \", rdd_reviews.count())"
    },
    {
      "cell_type": "code",
      "execution_count": 3,
      "metadata": {
        "autoscroll": "auto"
      },
      "outputs": [],
      "source": "%pyspark\nrdd_clients \u003d rdd \\\n            .map(lambda x: x.split(\u0027\\t\u0027)) \\\n            .map(lambda x: (x[1], 1)) \\\n            .reduceByKey(lambda x, y: x + y) \\\n            .cache()"
    },
    {
      "cell_type": "code",
      "execution_count": 4,
      "metadata": {
        "autoscroll": "auto"
      },
      "outputs": [],
      "source": "%pyspark\nprint(\"Número de clientes é igual a \", rdd_clients.count())"
    },
    {
      "cell_type": "code",
      "execution_count": 5,
      "metadata": {
        "autoscroll": "auto"
      },
      "outputs": [],
      "source": "%pyspark\nrdd_products \u003d rdd \\\n            .map(lambda x: x.split(\u0027\\t\u0027)) \\\n            .map(lambda x: (x[3], 1)) \\\n            .reduceByKey(lambda x, y: x + y) \\\n            .cache()"
    },
    {
      "cell_type": "code",
      "execution_count": 6,
      "metadata": {
        "autoscroll": "auto"
      },
      "outputs": [],
      "source": "%pyspark\nprint(\"Número de produtos é igual a \", rdd_products.count())"
    },
    {
      "cell_type": "code",
      "execution_count": 7,
      "metadata": {
        "autoscroll": "auto"
      },
      "outputs": [],
      "source": "%pyspark\ndf \u003d spark.read.option(\"header\", \"false\") \\\n    .option(\"delimiter\", \"\\t\") \\\n    .option(\"inferSchema\", \"true\") \\\n    .csv(\"s3://megadados-alunos/dados/all_reviews_clean_tsv/\")"
    },
    {
      "cell_type": "code",
      "execution_count": 8,
      "metadata": {
        "autoscroll": "auto"
      },
      "outputs": [],
      "source": "%pyspark\n# armazena o df em cache\n# c0: marketplace; c1: customer_id; c2: review_id; c3: product_id;\n# c4: product_parent; c5: product_title; c6: product_category\n# c7: star_rating; c8: helpful_votes; c9: total_votes; c10: vine\n# c11: verified_purchase; c12: review_headline; c13: review_body; c14: review_data\ndf.cache()"
    },
    {
      "cell_type": "code",
      "execution_count": 9,
      "metadata": {
        "autoscroll": "auto"
      },
      "outputs": [],
      "source": "%pyspark\ndf.show(5)"
    },
    {
      "cell_type": "code",
      "execution_count": 10,
      "metadata": {
        "autoscroll": "auto"
      },
      "outputs": [],
      "source": "%pyspark\n# quantas reviews tem de cada star_rating \n# _c2: review_id ; _c7: star_rating\ndf_star \u003d df[[\"_c2\", \"_c7\"]]"
    },
    {
      "cell_type": "code",
      "execution_count": 11,
      "metadata": {
        "autoscroll": "auto"
      },
      "outputs": [],
      "source": "%pyspark\ndf_star \u003d df_star.withColumnRenamed(\"_c2\", \"review_id\") \\\n       .withColumnRenamed(\"_c7\", \"star_rating\")"
    },
    {
      "cell_type": "code",
      "execution_count": 12,
      "metadata": {
        "autoscroll": "auto"
      },
      "outputs": [],
      "source": "%pyspark\nstar \u003d df_star[\"star_rating\"]\ndf_star.where((star \u003d\u003d \u00271\u0027) | (star \u003d\u003d \u00272\u0027) | (star \u003d\u003d \u00273\u0027) | (star \u003d\u003d \u00274\u0027) | (star \u003d\u003d \u00275\u0027)) \\\n    .groupBy(\"star_rating\") \\ \n    .count() \\\n    .show()"
    },
    {
      "cell_type": "code",
      "execution_count": 13,
      "metadata": {
        "autoscroll": "auto"
      },
      "outputs": [],
      "source": "%pyspark\n# clientes que só deram um review\n# c0: marketplace; c1: customer_id; c2: review_id; c3: product_id;\n# c4: product_parent; c5: product_title; c6: product_category\n# c7: star_rating; c8: helpful_votes; c9: total_votes; c10: vine\n# c11: verified_purchase; c12: review_headline; c13: review_body; c14: review_data\n\ndf_review \u003d df[[\"_c1\", \"_c2\"]] \\\n                    .withColumnRenamed(\"_c1\", \"customer_id\") \\\n                    .withColumnRenamed(\"_c2\", \"review_id\")\n\ndf_review.show(10)"
    },
    {
      "cell_type": "code",
      "execution_count": 14,
      "metadata": {
        "autoscroll": "auto"
      },
      "outputs": [],
      "source": "%pyspark\n# agrupar reviews por usuario e verificar quais clientes fez apenas 1 review \ndf_count \u003d df_review.groupBy(\"customer_id\").count()\ndf_count \u003d df_count.where(df_count[\"count\"] \u003d\u003d 1) \n\n# junta com a tabela original para ter acesso ao star_rating\ndf.join(df_count, df[\"_c1\"] \u003d\u003d df_count[\"customer_id\"]).show()"
    },
    {
      "cell_type": "raw",
      "metadata": {
        "format": "text/plain"
      },
      "source": "%pyspark\n"
    }
  ]
}