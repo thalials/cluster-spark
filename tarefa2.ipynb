﻿{
  "metadata": {
    "name": "Note converted from Jupyter_2GQXVWYT4",
    "kernelspec": {
      "language": "scala",
      "name": "spark2-scala"
    },
    "language_info": {
      "codemirror_mode": "text/x-scala",
      "file_extension": ".scala",
      "mimetype": "text/x-scala",
      "name": "scala",
      "pygments_lexer": "scala"
    }
  },
  "nbformat": 4,
  "nbformat_minor": 2,
  "cells": [
    {
      "cell_type": "code",
      "execution_count": 0,
      "metadata": {
        "autoscroll": "auto"
      },
      "outputs": [],
      "source": "%pyspark\ndf \u003d spark.read.option(\"header\", \"false\") \\\n    .option(\"delimiter\", \"\\t\") \\\n    .option(\"inferSchema\", \"true\") \\\n    .csv(\"s3://megadados-alunos/dados/all_reviews_clean_tsv/\")\n\ndf \u003d df.withColumnRenamed(\"_c0\", \"marketplace\") \\\n    .withColumnRenamed(\"_c1\", \"customer_id\") \\\n    .withColumnRenamed(\"_c2\", \"review_id\") \\\n    .withColumnRenamed(\"_c3\", \"product_id\") \\\n    .withColumnRenamed(\"_c4\", \"product_parent\") \\\n    .withColumnRenamed(\"_c5\", \"product_title\") \\\n    .withColumnRenamed(\"_c6\", \"product_category\") \\\n    .withColumnRenamed(\"_c7\", \"star_rating\") \\\n    .withColumnRenamed(\"_c8\", \"helpful_votes\") \\\n    .withColumnRenamed(\"_c9\", \"total_votes\") \\\n    .withColumnRenamed(\"_c10\", \"vine\") \\\n    .withColumnRenamed(\"_c11\", \"verified_purchase\") \\\n    .withColumnRenamed(\"_c12\", \"review_headline\") \\\n    .withColumnRenamed(\"_c13\", \"review_body\") \\\n    .withColumnRenamed(\"_c14\", \"review_date\") \\\n    .cache()"
    },
    {
      "cell_type": "code",
      "execution_count": 1,
      "metadata": {
        "autoscroll": "auto"
      },
      "outputs": [],
      "source": "%pyspark\n\n#agrupando dataframe geral por customer_id\ndf_customer \u003d df.groupBy(\"customer_id\").count()\ndf_customer.orderBy([\"count\"], ascending\u003dFalse) \\\n            .show(5)\n\n# valores grandes de contagem podem indicar que existem bots "
    },
    {
      "cell_type": "code",
      "execution_count": 2,
      "metadata": {
        "autoscroll": "auto"
      },
      "outputs": [],
      "source": "%pyspark\n\nfrom pyspark.sql.types import IntegerType\n\n# verificacao estatistica\ndesc \u003d df_customer.describe([\"count\"])\ndesc.show()"
    },
    {
      "cell_type": "code",
      "execution_count": 3,
      "metadata": {
        "autoscroll": "auto"
      },
      "outputs": [],
      "source": "%pyspark\nfrom pyspark.sql.functions import col \nhistograma \u003d df.groupBy(\"customer_id\") \\\n            .count() \\\n            .select(\"count\") \\\n            .rdd \\\n            .flatMap(lambda x: x) \\\n            .histogram(100)\n            \nprint(\"quantidade de comentarios:\")\nprint(histograma[0])\n\nprint(\"\\n\")\n\nprint(\"-------------------------------\")\nprint(\"quantidade de pessoas com os comentatios acima \")\nprint(histograma[1])"
    },
    {
      "cell_type": "code",
      "execution_count": 4,
      "metadata": {
        "autoscroll": "auto"
      },
      "outputs": [],
      "source": "%pyspark\n\nstddev \u003d 20.132207420736695\nmean \u003d 4.506656831142033\ncoef \u003d 15\nnorm_dist \u003d (stddev*coef) + mean\nbots \u003d norm_dist\nbots \u003d round(bots)\nprint(bots)"
    },
    {
      "cell_type": "code",
      "execution_count": 5,
      "metadata": {
        "autoscroll": "auto"
      },
      "outputs": [],
      "source": "%pyspark\n\nbots_users \u003d df_customer.where((df_customer[\"count\"] \u003e\u003d bots))\n\nprint(\"bots_users\")\nbots_users.show(5)\n\nprint(\"número de usuarios bot: \", bots_users.count())\n"
    },
    {
      "cell_type": "code",
      "execution_count": 6,
      "metadata": {
        "autoscroll": "auto"
      },
      "outputs": [],
      "source": "%pyspark\n\ndf_final \u003d df.join(df_customer, [\"customer_id\"])\njust_bots \u003d df_final.where(df_final[\"count\"] \u003e\u003d bots)\nbot_characters \u003d just_bots[[\"customer_id\", \"star_rating\", \"product_category\"]]\n\n# agrupa pelos usuarios \nnum_bots \u003d bot_characters.groupby(\"customer_id\").count()\n\nprint(\"número de bots\" , num_bots.count())\n\nbot_categories \u003d bot_characters.groupby(\"product_category\").count()\nbot_categories.orderBy([\"count\"], ascending\u003dFalse).show()"
    },
    {
      "cell_type": "code",
      "execution_count": 7,
      "metadata": {
        "autoscroll": "auto"
      },
      "outputs": [],
      "source": "%pyspark\n\n# agrupando o dataframe de bots por customer_id\nbots_groupby_id \u003d bot_characters.groupby(\"customer_id\").count()\ndf_customers_groupby \u003d df.join(bots_groupby_id, [\"customer_id\"])\n\n# positivos\npositive \u003d df_customers_groupby.where(df_customers_groupby[\"star_rating\"] \u003e\u003d 4)\n\n# negativos\nnegative \u003d df_customers_groupby.where(df_customers_groupby[\"star_rating\"] \u003c\u003d 2)\n\nprint(\"reviews positivas \" , positive.count())\n\n\nprint(\"reviews negativas \", negative.count())"
    }
  ]
}